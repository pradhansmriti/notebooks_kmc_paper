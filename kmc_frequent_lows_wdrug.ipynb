{
 "cells": [
  {
   "cell_type": "code",
   "execution_count": 2,
   "id": "20b54c31-a404-4987-b149-d5961c01d334",
   "metadata": {},
   "outputs": [],
   "source": [
    "import pandas as pd\n",
    "import matplotlib.pyplot as plt\n",
    "import numpy as np"
   ]
  },
  {
   "cell_type": "code",
   "execution_count": 2,
   "id": "2813597f-f7e4-4822-aed5-0f3e5658b5a3",
   "metadata": {},
   "outputs": [],
   "source": [
    "import glob \n",
    "import os\n",
    "from collections import defaultdict\n"
   ]
  },
  {
   "cell_type": "code",
   "execution_count": 3,
   "id": "af82070e",
   "metadata": {},
   "outputs": [],
   "source": [
    "def time_spent_dimers(df):\n",
    "    t_rows=df.shape[0]\n",
    "    durations=[]\n",
    "    current_size=None\n",
    "    start_time=None\n",
    "    for i in range(t_rows):\n",
    "        if current_size is None:\n",
    "            current_size=df['NE'].iloc[i]\n",
    "            start_time=df['sweep'].iloc[i]\n",
    "        elif df['NE'].iloc[i]!=current_size:\n",
    "            durations.append((current_size,df['sweep'].iloc[i]-start_time+1))\n",
    "            current_size=df['NE'].iloc[i]\n",
    "            start_time=df['sweep'].iloc[i]\n",
    "    if current_size is not None:\n",
    "      durations.append((current_size,df['sweep'].iloc[-1]-start_time))\n",
    "    totaltime=df['sweep'].iloc[-1]-df['sweep'].iloc[0]\n",
    "    #sum_second_element=defaultdict(int)\n",
    "    #for first, second in durations:\n",
    "    #    sum_second_element[first]+=second\n",
    "    #newhist=[(first,sum_second_element[first]) for first in sum_second_element]\n",
    "    #number_of_dimers =np.array([item[0] for item in newhist])\n",
    "    #frequency=np.array([item[1] for item in newhist])\n",
    "    del t_rows, current_size\n",
    "    return durations, totaltime\n",
    "    "
   ]
  },
  {
   "cell_type": "code",
   "execution_count": 4,
   "id": "e111d79c",
   "metadata": {},
   "outputs": [],
   "source": [
    "def combine_two_lists(list1,list2):\n",
    "    combined_dict={}\n",
    "\n",
    "# Populate the dictionaries by adding the second elements when the first element is common\n",
    "    for item in list1:\n",
    "        key = item[0]\n",
    "        value = item[1]\n",
    "        if key in combined_dict:\n",
    "            combined_dict[key] += value\n",
    "        else:\n",
    "            combined_dict[key] = value\n",
    "\n",
    "    for item in list2:\n",
    "        key = item[0]\n",
    "        value = item[1]\n",
    "        if key in combined_dict:\n",
    "            combined_dict[key] += value\n",
    "        else:\n",
    "            combined_dict[key] = value\n",
    "\n",
    "    # Convert the combined dictionary back to a list of tuples\n",
    "    del list1,list2\n",
    "    result_list = [(key, value) for key, value in combined_dict.items()]\n",
    "    return result_list\n",
    "\n",
    "\n"
   ]
  },
  {
   "cell_type": "code",
   "execution_count": 7,
   "id": "6cabd3ad",
   "metadata": {},
   "outputs": [
    {
     "name": "stdout",
     "output_type": "stream",
     "text": [
      "224\n"
     ]
    }
   ],
   "source": [
    "from IPython.display import clear_output\n",
    "clear_output(wait=True)\n",
    "import gc\n",
    "gc.collect()\n",
    "\n",
    "total_hist=[]\n",
    "count=0\n",
    "total_time=0\n",
    "energyfiles_worknew=glob.glob('/home/smriti/BigStorage/figs_movies_KMC/send_worknew/SE-DMU--5.5_Rmudrug--10.1_kd-0.0001/*dat')\n",
    "#energyfiles_mac=glob.glob('/Users/smritipradhan/Desktop/send_worknew/SE-DMU--3.5_Rmudrug--10.1_kd-0.0001/*dat')\n",
    "print(len(energyfiles_worknew))\n",
    "for file in energyfiles_worknew[0:100]:\n",
    "    df=pd.read_csv(file,sep=',',usecols=['sweep','NE'],chunksize=100000)\n",
    "    for chunk in df:\n",
    "        if(chunk['NE'].iloc[-1]>3):\n",
    "            hist1, time_spent=time_spent_dimers(chunk)\n",
    "            total_hist=combine_two_lists(hist1,total_hist)\n",
    "            total_time+=time_spent\n",
    "        else:\n",
    "            continue\n",
    "        del chunk\n",
    "    del df"
   ]
  },
  {
   "cell_type": "code",
   "execution_count": 8,
   "id": "e8214a06",
   "metadata": {},
   "outputs": [],
   "source": [
    "from IPython.display import clear_output\n",
    "clear_output(wait=True)\n",
    "import gc\n",
    "gc.collect()\n",
    "number_of_dimers =np.array([item[0] for item in total_hist])\n",
    "frequency=np.array([item[1] for item in total_hist])\n",
    "dimer_frequency_df=pd.DataFrame()\n",
    "dimer_frequency_df['Ndimer']=number_of_dimers\n",
    "dimer_frequency_df['timespent']=frequency\n",
    "dimer_frequency_df_sorted=dimer_frequency_df.sort_values(by='Ndimer')\n",
    "new_number_of_dimers=np.asarray(dimer_frequency_df_sorted['Ndimer'])\n",
    "new_frequency=np.asarray(dimer_frequency_df_sorted['timespent'])\n",
    "dimer_frequency_df_sorted.to_csv('~/BigStorage/figs_movies_KMC/kmc_paper2025/lowsalt_drug.csv',index=False)"
   ]
  },
  {
   "cell_type": "code",
   "execution_count": 9,
   "id": "a5e634d6",
   "metadata": {},
   "outputs": [
    {
     "data": {
      "text/plain": [
       "<BarContainer object of 1138 artists>"
      ]
     },
     "execution_count": 9,
     "metadata": {},
     "output_type": "execute_result"
    },
    {
     "data": {
      "image/png": "[encoded data removed]",
      "text/plain": [
       "<Figure size 1200x600 with 1 Axes>"
      ]
     },
     "metadata": {},
     "output_type": "display_data"
    }
   ],
   "source": [
    "color2=(0.1, # redness\n",
    "         0.2, # greenness\n",
    "         0.9, # blueness\n",
    "         0.9 # transparency\n",
    "         )         \n",
    "fig, ax = plt.subplots(figsize=(12, 6), tight_layout=True)\n",
    "ax.bar(new_number_of_dimers[1:], new_frequency[1:]/(total_time-new_frequency[0]), color=color2, width=1,label='with drug assembly')"
   ]
  },
  {
   "cell_type": "markdown",
   "id": "c1e8a266",
   "metadata": {},
   "source": []
  },
  {
   "cell_type": "code",
   "execution_count": 10,
   "id": "2a3c2530",
   "metadata": {},
   "outputs": [
    {
     "name": "stdout",
     "output_type": "stream",
     "text": [
      "[(3, 172684017), (5, 962421), (7, 337845), (9, 161861), (10, 8243014), (12, 12143459), (14, 6998048), (16, 1994768), (18, 337241), (11, 61252), (13, 13543), (20, 28844), (17, 240944), (19, 288521), (21, 160969), (23, 94638), (26, 1794175), (28, 672426), (30, 157988), (22, 1242547), (24, 2400927), (29, 123795), (31, 108826), (32, 63382), (34, 154727), (35, 1106944), (37, 866111), (33, 675728), (39, 342841), (41, 174356), (42, 116222), (44, 428840), (43, 96296), (45, 165630), (46, 807388), (48, 591981), (50, 292467), (52, 128525), (47, 217459), (49, 194872), (51, 140229), (53, 69786), (54, 97006), (56, 66297), (57, 800492), (60, 83783), (62, 91598), (63, 128626), (65, 411575), (66, 320360), (68, 430065), (70, 350762), (71, 123732), (73, 97696), (75, 96727), (74, 140130), (76, 763619), (77, 87491), (78, 821982), (80, 470053), (82, 279612), (81, 113203), (83, 101486), (84, 207239), (85, 89092), (86, 428708), (88, 469849), (90, 327381), (92, 190226), (93, 141925), (94, 139407), (95, 272340), (96, 440569), (98, 420088), (99, 337761), (101, 163908), (102, 70748), (104, 115658), (108, 518972), (111, 84052), (112, 219484), (113, 292251), (114, 668082), (115, 2319280), (116, 574124), (117, 247150), (119, 613256), (120, 774725), (38, 240895), (40, 192582), (55, 497360), (59, 528731), (61, 225014), (64, 77590), (67, 354740), (69, 274306), (72, 188969), (87, 219129), (103, 47561), (105, 221870), (106, 703946), (107, 107848), (109, 105553), (118, 611446), (58, 53560), (79, 126586), (89, 250457), (36, 270886), (97, 378851), (100, 148095), (27, 48652), (25, 53764), (110, 389292), (91, 216836), (15, 2508), (122, 76905), (121, 2571086), (123, 35302), (124, 121609), (126, 20007), (128, 1101)]\n",
      "243210324\n"
     ]
    }
   ],
   "source": [
    "total_histwodrug=[]\n",
    "countwodrug=0\n",
    "total_timewodrug=0\n",
    "energyfileswodrug=glob.glob('/home/smriti/BigStorage/old_computer_work/Desktop/KMC_HBV/MC_HEVA/allEnergyFiles/DMU--4.5_RGB--6.0_MU--10.8/*dat')\n",
    "\n",
    "for file in energyfileswodrug[0:100]:\n",
    "    df=pd.read_csv(file,sep=',',chunksize=100000)\n",
    "    for chunk in df:\n",
    "        if(chunk['NE'].iloc[-1]>3):\n",
    "            chunk_start=chunk['sweep'].iloc[0]\n",
    "            chunk_end=chunk['sweep'].iloc[-1]\n",
    "            hist1, time_spent=time_spent_dimers(chunk)\n",
    "            total_histwodrug=combine_two_lists(hist1,total_histwodrug)\n",
    "            total_timewodrug+=time_spent\n",
    "        del chunk\n",
    "    del df\n",
    "print(total_histwodrug)\n",
    "print(total_timewodrug)\n",
    "number_of_dimers_wodrug =np.array([item[0] for item in total_histwodrug])\n",
    "frequency_wodrug=np.array([item[1] for item in total_histwodrug])\n",
    "dimer_frequency_df_wodrug=pd.DataFrame()\n",
    "dimer_frequency_df_wodrug['Ndimer']=number_of_dimers_wodrug\n",
    "dimer_frequency_df_wodrug['timespent']=frequency_wodrug\n",
    "dimer_frequency_df_sorted_wodrug=dimer_frequency_df_wodrug.sort_values(by='Ndimer')\n",
    "new_number_of_dimers_wodrug=np.asarray(dimer_frequency_df_sorted_wodrug['Ndimer'])\n",
    "new_frequency_wodrug=np.asarray(dimer_frequency_df_sorted_wodrug['timespent'])\n",
    "dimer_frequency_df_sorted_wodrug.to_csv('~/BigStorage/figs_movies_KMC/kmc_paper2025/std_salt_wo_drug.csv',index=False)"
   ]
  },
  {
   "cell_type": "code",
   "execution_count": 9,
   "id": "9b0a34f7",
   "metadata": {},
   "outputs": [
    {
     "data": {
      "image/png": "[encoded data removed]",
      "text/plain": [
       "<Figure size 800x600 with 1 Axes>"
      ]
     },
     "metadata": {},
     "output_type": "display_data"
    }
   ],
   "source": [
    "import matplotlib as mpl\n",
    "color = (0.8, # redness\n",
    "         0.2, # greenness\n",
    "         0.2, # blueness\n",
    "         0.9 # transparency\n",
    "         ) \n",
    "color2=(0.1, # redness\n",
    "         0.2, # greenness\n",
    "         0.9, # blueness\n",
    "         0.9 # transparency\n",
    "         )        \n",
    "df_std_wodrug=pd.read_csv('~/BigStorage/figs_movies_KMC/kmc_paper2025/std_salt_wo_drug.csv')\n",
    "df_high_wdrug=pd.read_csv('~/BigStorage/figs_movies_KMC/kmc_paper2025/lowsalt_drug.csv') \n",
    "markerarray=mpl.colormaps['plasma'](np.linspace(0,0.8,4))\n",
    "color_wodrug=markerarray[3]\n",
    "color_wdrug_low=markerarray[0]\n",
    "fig, ax = plt.subplots(figsize=(8, 6), tight_layout=True)\n",
    "wdrug_freq_list=df_high_wdrug['timespent'][1:]/(df_high_wdrug['timespent'].sum()-df_high_wdrug['timespent'][0])\n",
    "ax.bar(df_high_wdrug['Ndimer'][1:], [val for val in wdrug_freq_list], color=color_wdrug_low, width=1,label='with drug assembly',alpha=0.6)\n",
    "wodrug_freq_list = df_std_wodrug['timespent'][1:] / (df_std_wodrug['timespent'].sum() - df_std_wodrug['timespent'][0])\n",
    "ax.bar(df_std_wodrug['Ndimer'][1:], [val for val in wodrug_freq_list], color=color_wodrug, width=1,label='without drug assembly',alpha=0.6)\n",
    "ax.set_xlim(3, 30)\n",
    "#ax.set_ylim(0, 0.25)\n",
    "#ax.set_title(\"Most frequent shell size at moderate salt without drug  and low salt with drug\", fontsize=18)\n",
    "ax.set_xlabel(\"Number of dimers\", fontsize=16)\n",
    "ax.set_xticks(np.arange(3, 30, step=2))\n",
    "ax.set_yticks(np.arange(0, 0.5, step=0.05))\n",
    "ax.tick_params(axis='x', labelrotation=45, labelsize=16)\n",
    "ax.tick_params(axis='y', labelsize=16)\n",
    "ax.set_ylabel(\"Relative time spent\", fontsize=16)\n",
    "\n",
    "#plt.legend(fontsize=16, loc='upper right')\n",
    "# Add right-side y-axis\n",
    "#ax2 = ax.twinx()\n",
    "#ax2.set_ylim(ax.get_ylim())  # Match y-limits\n",
    "#ax2.set_yticks(ax.get_yticks()) \n",
    "#yticks_right= ax.get_yticks()  # multiply by 4 to get actual values\n",
    "#ax2.set_yticklabels([f\"{val:.3f}\" for val in yticks_right])\n",
    "#ax2.set_ylabel(\"Relative time spent (with drug)\", fontsize=16)\n",
    "#ax2.tick_params(axis='y', labelsize=16)\n",
    "\n",
    "plt.savefig('/home/smriti/BigStorage/figs_movies_KMC/kmc_paper2025/figs_kmcpaper_2025/assembly_frequency_low_truncated.png', dpi=300)\n",
    "plt.savefig('/home/smriti/BigStorage/figs_movies_KMC/kmc_paper2025/figs_kmcpaper_2025/assembly_frequency_low_truncated.svg', dpi=300)"
   ]
  },
  {
   "cell_type": "code",
   "execution_count": null,
   "id": "fb6da177",
   "metadata": {},
   "outputs": [],
   "source": [
    "combined_df=pd.DataFrame()\n",
    "for files in energyfiles[0:90]:\n",
    "    df=pd.read_csv(files, sep=',')\n",
    "    #df = df.drop(df[df['NE'] <= 3].index)\n",
    "    #print(df.head)\n",
    "    #if(df['NE'].iloc[-1]==120):\n",
    "    combined_df=pd.concat([combined_df,df])\n",
    "\n",
    "\n",
    "\n",
    "\n"
   ]
  },
  {
   "cell_type": "code",
   "execution_count": null,
   "id": "9b0beb1b",
   "metadata": {},
   "outputs": [],
   "source": [
    "print(combined_df['NE'].unique())"
   ]
  },
  {
   "cell_type": "code",
   "execution_count": null,
   "id": "415b1c66",
   "metadata": {},
   "outputs": [],
   "source": [
    "# Sizes: 10,12,14,16,22,24,26,33,44i\n",
    "import seaborn as sns\n",
    "df_filter=combined_df[combined_df['NE']==5]\n",
    "df_filter2=combined_df[combined_df['NE']==12]\n",
    "df_filter3=combined_df[combined_df['NE']==10]\n",
    "print(df_filter.columns)\n",
    "#df_filter=df_filter[df_filter['NAB']==5]\n",
    "#print(df_filter.head())\n",
    "#print(df_filter['Nsurf'].unique())\n",
    "#print(df_filter['Nv6'].unique())\n",
    "#print(dfs[0]['NVin'])\n",
    "print(df_filter2['NCD_T4'].unique())\n",
    "print(df_filter2['Nv'].unique())\n",
    "print(df_filter2['Nhein'].unique())\n",
    "print(df_filter2['NAB'].unique())\n",
    "#print(df_filter['energy'].round(0).value_counts())\n",
    "sns.histplot(df_filter2,x='NAB',stat='density',label='AB')\n",
    "sns.histplot(df_filter2,x='NCD_T4',stat='density',label='CD_T4')\n",
    "sns.histplot(df_filter2,x='NCD_other',stat='density',label='CD_other')\n",
    "plt.legend()\n",
    "plt.title('Total elastic energy')\n"
   ]
  },
  {
   "cell_type": "code",
   "execution_count": null,
   "id": "43da3009",
   "metadata": {},
   "outputs": [],
   "source": [
    "import seaborn as sns\n",
    "sns.set_theme()\n",
    "df_filter=df_total[df_total['NE']==10]\n",
    "df_filter['NCDout']=df_filter['NCD_T4']-df_filter['NCD_T4_in']\n",
    "print(df_filter.groupby('NCD_T4_in').count())\n",
    "selected_columns = ['NAB', 'NCD_T4','NCD_other'] \n",
    "data_melted = df_filter[selected_columns].melt(var_name=\"Dimers\", value_name=\"number of dimers\")\n",
    "\n",
    "sns.displot(data_melted,x=\"number of dimers\",hue=\"Dimers\",alpha=0.5,stat=\"density\",binwidth=0.33,height=6,aspect=10/6)\n",
    "plt.rcParams.update({'font.size': 24})\n",
    "plt.title(\"Total shell size=10\")\n",
    "plt.rc('figure', titlesize=30)\n",
    "plt.tight_layout()\n",
    "plt.savefig('e_10.png')\n",
    "\n"
   ]
  },
  {
   "cell_type": "code",
   "execution_count": null,
   "id": "e9fe4f5f",
   "metadata": {},
   "outputs": [],
   "source": [
    "data_edges = {'Edge Type': ['AB', 'CD_other','NCD_T4','NCD_T3'], 'col2': [nABs,NCD_other, NCD4,NCD3]}\n",
    "df = pd.DataFrame(data=data_edges)\n",
    "print(df.head())"
   ]
  },
  {
   "cell_type": "code",
   "execution_count": null,
   "id": "537c8dda",
   "metadata": {},
   "outputs": [],
   "source": [
    "\n",
    "plt.hist(nABs,color='red',density=True,bins=5)\n",
    "plt.hist(NCD_other,color='blue',density=True,bins=5)\n",
    "plt.xlim(-5,10)"
   ]
  },
  {
   "cell_type": "code",
   "execution_count": null,
   "id": "c3db2bba-7e22-4da3-b074-2fe13307c8ff",
   "metadata": {},
   "outputs": [],
   "source": [
    "fig, axs = plt.subplots(1, 1,figsize =(10, 7),\n",
    "                        tight_layout = True)\n",
    "for files in energyfiles:\n",
    "    df=pd.read_csv(files, sep=',')\n",
    "    df = df.drop(df[df['NE'] <= 3].index)\n",
    "    #if(df['NE'].iloc[-1]==120):\n",
    "    combined_df=pd.concat([df])\n",
    "\n",
    "plt.hist(combined_df['NE'],bins=80,label='All trajectories')\n",
    "\n",
    "plt.xlabel('Number of dimers')\n",
    "locs, labels = plt.xticks()\n",
    "plt.xticks(np.arange(0, 125, step=5))\n",
    "plt.ylabel('Frequency')\n",
    "plt.legend()\n",
    "plt.savefig(\"Total.png\")\n"
   ]
  },
  {
   "cell_type": "code",
   "execution_count": null,
   "id": "893e9d95-d1b6-49a0-a0f5-e041a485eabc",
   "metadata": {},
   "outputs": [],
   "source": [
    "# Sample lists of tuples\n",
    "list1 = [(\"A\", 10), (\"B\", 20), (\"A\", 30), (\"C\", 40), (\"B\", 50)]\n",
    "list2 = [(\"A\", 5), (\"B\", 15), (\"C\", 25), (\"D\", 35), (\"A\", 45)]\n",
    "\n",
    "# Create dictionaries to store the accumulated values for each list\n",
    "dict1 = {}\n",
    "dict2 = {}\n",
    "\n",
    "# Populate the dictionaries by adding the second elements when the first element is common\n",
    "for item in list1:\n",
    "    key = item[0]\n",
    "    value = item[1]\n",
    "    if key in dict1:\n",
    "        dict1[key] += value\n",
    "    else:\n",
    "        dict1[key] = value\n",
    "\n",
    "for item in list2:\n",
    "    key = item[0]\n",
    "    value = item[1]\n",
    "    if key in dict2:\n",
    "        dict2[key] += value\n",
    "    else:\n",
    "        dict2[key] = value\n",
    "\n",
    "# Combine the dictionaries into a single dictionary\n",
    "combined_dict = {}\n",
    "for key, value in dict1.items():\n",
    "    combined_dict[key] = value\n",
    "for key, value in dict2.items():\n",
    "    if key in combined_dict:\n",
    "        combined_dict[key] += value\n",
    "    else:\n",
    "        combined_dict[key] = value\n",
    "\n",
    "# Convert the combined dictionary back to a list of tuples\n",
    "result_list = [(key, value) for key, value in combined_dict.items()]\n",
    "\n",
    "print(result_list)\n"
   ]
  },
  {
   "cell_type": "code",
   "execution_count": null,
   "id": "7ad28cfa",
   "metadata": {},
   "outputs": [],
   "source": [
    "list1 = [(\"A\", 10), (\"B\", 20), (\"A\", 30), (\"C\", 40), (\"B\", 50)]\n",
    "list2 = [(\"A\", 5), (\"B\", 15), (\"C\", 25), (\"D\", 35), (\"A\", 45)]\n",
    " # An empty list\n",
    "\n",
    "# Create a dictionary to store the accumulated values\n",
    "combined_dict = {}\n",
    "\n",
    "# Populate the dictionary from list1\n",
    "for item in list1:\n",
    "    key = item[0]\n",
    "    value = item[1]\n",
    "    if key in combined_dict:\n",
    "        combined_dict[key] += value\n",
    "    else:\n",
    "        combined_dict[key] = value\n",
    "\n",
    "# Populate the dictionary from list2\n",
    "for item in list2:\n",
    "    key = item[0]\n",
    "    value = item[1]\n",
    "    if key in combined_dict:\n",
    "        combined_dict[key] += value\n",
    "    else:\n",
    "        combined_dict[key] = value\n",
    "\n",
    "# Convert the combined dictionary back to a list of tuples\n",
    "result_list = [(key, value) for key, value in combined_dict.items()]\n",
    "\n",
    "print(result_list)"
   ]
  },
  {
   "cell_type": "code",
   "execution_count": null,
   "id": "0d272658",
   "metadata": {},
   "outputs": [],
   "source": []
  }
 ],
 "metadata": {
  "kernelspec": {
   "display_name": "mdaenv",
   "language": "python",
   "name": "python3"
  },
  "language_info": {
   "codemirror_mode": {
    "name": "ipython",
    "version": 3
   },
   "file_extension": ".py",
   "mimetype": "text/x-python",
   "name": "python",
   "nbconvert_exporter": "python",
   "pygments_lexer": "ipython3",
   "version": "3.10.9"
  }
 },
 "nbformat": 4,
 "nbformat_minor": 5
}
